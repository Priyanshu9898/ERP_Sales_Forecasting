{
 "cells": [
  {
   "cell_type": "code",
   "execution_count": 1,
   "metadata": {},
   "outputs": [],
   "source": [
    "import os"
   ]
  },
  {
   "cell_type": "code",
   "execution_count": 2,
   "metadata": {},
   "outputs": [
    {
     "data": {
      "text/plain": [
       "'d:\\\\ERP_Sales_Forecasting\\\\research'"
      ]
     },
     "execution_count": 2,
     "metadata": {},
     "output_type": "execute_result"
    }
   ],
   "source": [
    "%pwd"
   ]
  },
  {
   "cell_type": "code",
   "execution_count": 3,
   "metadata": {},
   "outputs": [],
   "source": [
    "os.chdir('../')"
   ]
  },
  {
   "cell_type": "code",
   "execution_count": 4,
   "metadata": {},
   "outputs": [
    {
     "data": {
      "text/plain": [
       "'d:\\\\ERP_Sales_Forecasting'"
      ]
     },
     "execution_count": 4,
     "metadata": {},
     "output_type": "execute_result"
    }
   ],
   "source": [
    "%pwd"
   ]
  },
  {
   "cell_type": "code",
   "execution_count": 5,
   "metadata": {},
   "outputs": [],
   "source": [
    "from dataclasses import dataclass\n",
    "from pathlib import Path"
   ]
  },
  {
   "cell_type": "code",
   "execution_count": 6,
   "metadata": {},
   "outputs": [],
   "source": [
    "@dataclass(frozen=True)\n",
    "class ModelTrainingConfig:\n",
    "    root_dir: Path\n",
    "    data_file: Path\n",
    "    result_file: Path"
   ]
  },
  {
   "cell_type": "code",
   "execution_count": 7,
   "metadata": {},
   "outputs": [],
   "source": [
    "from ERPsalesForecasting.constants import *\n",
    "from ERPsalesForecasting.utils.common import read_yaml, create_directories\n",
    "from ERPsalesForecasting import logger"
   ]
  },
  {
   "cell_type": "code",
   "execution_count": 8,
   "metadata": {},
   "outputs": [],
   "source": [
    "class ConfigurationManager:\n",
    "    def __init__(self, config_file_path=CONFIG_FILE_PATH, param_file_path=PARAMS_FILE_PATH):\n",
    "        self.config = read_yaml(config_file_path)\n",
    "        self.param = read_yaml(param_file_path)\n",
    "\n",
    "        create_directories([self.config.artifacts_root])\n",
    "        \n",
    "\n",
    "\n",
    "    def get_model_training_config(self):\n",
    "        config = self.config.model_training\n",
    "        validationConfig = self.config.model_validation\n",
    "\n",
    "        create_directories([config.root_dir, validationConfig.root_dir])\n",
    "        column_names = \"ModelName,MSE,MAE,R2\\n\"\n",
    "        if (not os.path.exists(validationConfig.result_file) or os.path.getsize(validationConfig.result_file) == 0):\n",
    "         with open(validationConfig.result_file, \"w\") as f:\n",
    "            f.write(column_names)\n",
    "            logger.info(f\"Creating empty file: {validationConfig.result_file}\")\n",
    "            \n",
    "        else:\n",
    "            logger.info(f\"{validationConfig.result_file} is already exists\")\n",
    "\n",
    "        model_training_config = ModelTrainingConfig(\n",
    "            root_dir=config.root_dir,\n",
    "            data_file=config.data_file,\n",
    "            result_file=validationConfig.result_file,\n",
    "        )\n",
    "\n",
    "        return model_training_config"
   ]
  },
  {
   "cell_type": "code",
   "execution_count": 9,
   "metadata": {},
   "outputs": [],
   "source": [
    "from sklearn.model_selection import train_test_split\n",
    "from sklearn.preprocessing import OneHotEncoder, StandardScaler\n",
    "import pandas as pd\n",
    "import numpy as np"
   ]
  },
  {
   "cell_type": "code",
   "execution_count": 10,
   "metadata": {},
   "outputs": [],
   "source": [
    "from ERPsalesForecasting import logger"
   ]
  },
  {
   "cell_type": "code",
   "execution_count": 11,
   "metadata": {},
   "outputs": [],
   "source": [
    "import pandas as pd\n",
    "import numpy as np\n",
    "from sklearn.model_selection import train_test_split\n",
    "from sklearn.preprocessing import OneHotEncoder, StandardScaler\n",
    "from sklearn.ensemble import RandomForestRegressor, GradientBoostingRegressor\n",
    "from sklearn.linear_model import Lasso, Ridge, ElasticNet\n",
    "from sklearn.tree import DecisionTreeRegressor\n",
    "from sklearn.neighbors import KNeighborsRegressor\n",
    "from sklearn.svm import SVR\n",
    "from sklearn.metrics import mean_squared_error, mean_absolute_error, r2_score\n",
    "\n",
    "import matplotlib.pyplot as plt\n",
    "from sklearn.ensemble import RandomForestRegressor, GradientBoostingRegressor"
   ]
  },
  {
   "cell_type": "code",
   "execution_count": 12,
   "metadata": {},
   "outputs": [],
   "source": [
    "class ModelTraining:\n",
    "    def __init__(self, config: ModelTrainingConfig) -> None:\n",
    "        self.config = config\n",
    "\n",
    "    def data_preprocessing(self):\n",
    "\n",
    "        df = pd.read_csv(self.config.data_file)\n",
    "\n",
    "        encoder = OneHotEncoder(sparse=False)\n",
    "        product_encoded = encoder.fit_transform(df[['ProductID']])\n",
    "        product_encoded_df = pd.DataFrame(product_encoded, columns=[\n",
    "                                          f'Product_{i}' for i in range(product_encoded.shape[1])])\n",
    "\n",
    "        numeric_features = df.select_dtypes(\n",
    "            include=[np.number]).drop(['SelledQTY'], axis=1)\n",
    "        numeric_features.drop(['ProductTotalQty'], axis=1, inplace=True)\n",
    "        return (product_encoded_df, numeric_features, df)\n",
    "\n",
    "    def splitData(self, numeric_features, product_encoded_df, df):\n",
    "        X = pd.concat([numeric_features, product_encoded_df], axis=1)\n",
    "        y = df['SelledQTY']\n",
    "\n",
    "        dates = df['Date']\n",
    "        product_ids = df['ProductID']\n",
    "\n",
    "        X_train, X_test, y_train, y_test, dates_train, dates_test, product_ids_train, product_ids_test = train_test_split(\n",
    "            X, y, dates, product_ids, test_size=0.2, random_state=42)\n",
    "        \n",
    "        return (X_train, X_test, y_train, y_test, dates_train, dates_test, product_ids_train, product_ids_test)\n",
    "\n",
    "    def dataScaling(self, X_train, X_test):\n",
    "        # Normalize the Features\n",
    "        scaler = StandardScaler()\n",
    "        X_train_scaled = scaler.fit_transform(X_train)\n",
    "        X_test_scaled = scaler.transform(X_test)\n",
    "        \n",
    "        return X_train_scaled, X_test_scaled\n",
    "    \n",
    "    def get_regression_model(model_type='linear'):\n",
    "        if model_type == 'random_forest':\n",
    "            return RandomForestRegressor(n_estimators=100, random_state=42)\n",
    "        elif model_type == 'gradient_boosting':\n",
    "            return GradientBoostingRegressor(n_estimators=100, random_state=42)\n",
    "        # elif model_type == 'xgboost':\n",
    "        #     return xgb(n_estimators=100, random_state=42)\n",
    "        elif model_type == 'lasso':\n",
    "            return Lasso(alpha=1.0, random_state=42)\n",
    "        elif model_type == 'ridge':\n",
    "            return Ridge(alpha=1.0, random_state=42)\n",
    "        elif model_type == 'elastic_net':\n",
    "            return ElasticNet(alpha=1.0, l1_ratio=0.5, random_state=42)\n",
    "        elif model_type == 'decision_tree':\n",
    "            return DecisionTreeRegressor(random_state=42)\n",
    "        elif model_type == 'knn':\n",
    "            return KNeighborsRegressor(n_neighbors=5)\n",
    "        elif model_type == 'svr':\n",
    "            return SVR()\n",
    "        else:\n",
    "            from sklearn.linear_model import LinearRegression\n",
    "            return LinearRegression()\n",
    "    \n",
    "    def model_evaluation(self, model, model_name, X_test_scaled, y_test, dates_test, product_ids_test):\n",
    "        y_pred = model.predict(X_test_scaled)\n",
    "        \n",
    "        # print(y_pred)\n",
    "        \n",
    "        mse = mean_squared_error(y_test, y_pred)\n",
    "        mae = mean_absolute_error(y_test, y_pred)\n",
    "        r2 = r2_score(y_test, y_pred)\n",
    "        print(f'Model: {model_name}, MSE: {mse}, MAE: {mae}, R2 Score: {r2}')\n",
    "        \n",
    "        logger.info('Model: {model_name}, MSE: {mse}, MAE: {mae}, R2 Score: {r2}')\n",
    "        \n",
    "        # Your code for updating the DataFrame\n",
    "        new_data = pd.DataFrame({\n",
    "            'ModelName': [\"Linear Regression\"],\n",
    "            'MSE': [mse],\n",
    "            'MAE': [mae],\n",
    "            'R2': [r2]\n",
    "        })\n",
    "        \n",
    "        result_df = pd.read_csv(self.config.result_file)\n",
    "        result_df = pd.concat([result_df, new_data], ignore_index=True) \n",
    "        \n",
    "        logger.info('Model: {model_name}, evaluation data has been updated to results file')\n",
    "    \n",
    "        comparison_df = pd.DataFrame({\n",
    "            'Date': dates_test,\n",
    "            'ProductId': product_ids_test,\n",
    "            'ActualSales': y_test,\n",
    "            'PredictedSales': y_pred\n",
    "        })\n",
    "        \n",
    "        comparison_df.sort_values(by=['Date', 'ProductId'], inplace=True)\n",
    "        \n",
    "        logger.info(f'{comparison_df.head()}')\n",
    "        \n",
    "        comparison_df.to_csv(f'{self.config.root_dir}/{model_name}.csv')\n",
    "        \n",
    "        logger.info(f'test result of {model_name} is saved to: {self.config.root_dir}/{model_name}.csv')"
   ]
  },
  {
   "cell_type": "code",
   "execution_count": 13,
   "metadata": {},
   "outputs": [
    {
     "name": "stdout",
     "output_type": "stream",
     "text": [
      "[2023-12-21 21:45:37,921]: INFO: common : 31: yaml file: config\\config.yaml loaded successfully\n",
      "[2023-12-21 21:45:37,923]: INFO: common : 31: yaml file: params.yaml loaded successfully\n",
      "[2023-12-21 21:45:37,923]: INFO: common : 50: created directory at: artifacts\n",
      "[2023-12-21 21:45:37,924]: INFO: common : 50: created directory at: artifacts/model_training\n",
      "[2023-12-21 21:45:37,924]: INFO: common : 50: created directory at: artifacts/model_validation\n",
      "[2023-12-21 21:45:37,926]: INFO: 3819670936 : 19: Creating empty file: artifacts/model_validation/result.csv\n",
      "Model: Linear Regression, MSE: 900.0, MAE: 30.0, R2 Score: nan\n",
      "[2023-12-21 21:45:37,938]: INFO: 2587357830 : 69: Model: {model_name}, MSE: {mse}, MAE: {mae}, R2 Score: {r2}\n",
      "[2023-12-21 21:45:37,941]: INFO: 2587357830 : 82: Model: {model_name}, evaluation data has been updated to results file\n",
      "[2023-12-21 21:45:37,945]: INFO: 2587357830 : 93:          Date  ProductId  ActualSales  PredictedSales\n",
      "1  2023-12-18       5386           30            60.0\n",
      "[2023-12-21 21:45:37,947]: INFO: 2587357830 : 97: test result of Linear Regression is saved to: artifacts/model_training/Linear Regression.csv\n"
     ]
    },
    {
     "name": "stderr",
     "output_type": "stream",
     "text": [
      "d:\\ERP_Sales_Forecasting\\env\\Lib\\site-packages\\sklearn\\preprocessing\\_encoders.py:975: FutureWarning: `sparse` was renamed to `sparse_output` in version 1.2 and will be removed in 1.4. `sparse_output` is ignored unless you leave `sparse` to its default value.\n",
      "  warnings.warn(\n",
      "d:\\ERP_Sales_Forecasting\\env\\Lib\\site-packages\\sklearn\\metrics\\_regression.py:996: UndefinedMetricWarning: R^2 score is not well-defined with less than two samples.\n",
      "  warnings.warn(msg, UndefinedMetricWarning)\n",
      "C:\\Users\\priya\\AppData\\Local\\Temp\\ipykernel_26408\\2587357830.py:80: FutureWarning: The behavior of DataFrame concatenation with empty or all-NA entries is deprecated. In a future version, this will no longer exclude empty or all-NA columns when determining the result dtypes. To retain the old behavior, exclude the relevant entries before the concat operation.\n",
      "  result_df = pd.concat([result_df, new_data], ignore_index=True)\n"
     ]
    }
   ],
   "source": [
    "try:\n",
    "    config = ConfigurationManager()\n",
    "    model_training_config = config.get_model_training_config()\n",
    "    model_training = ModelTraining(config=model_training_config)\n",
    "    product_encoded_df, numeric_features, df = model_training.data_preprocessing()\n",
    "    X_train, X_test, y_train, y_test, dates_train, dates_test, product_ids_train, product_ids_test = model_training.splitData(product_encoded_df, numeric_features, df)\n",
    "    X_train_scaled, X_test_scaled = model_training.dataScaling(X_train, X_test)\n",
    "    \n",
    "    model = model_training.get_regression_model()\n",
    "    model.fit(X_train_scaled, y_train)\n",
    "    \n",
    "    model_training.model_evaluation(model, \"Linear Regression\", X_test_scaled, y_test, dates_test, product_ids_test)\n",
    "    \n",
    "    \n",
    "except Exception as e:\n",
    "    raise e"
   ]
  },
  {
   "cell_type": "code",
   "execution_count": null,
   "metadata": {},
   "outputs": [],
   "source": []
  }
 ],
 "metadata": {
  "kernelspec": {
   "display_name": "env",
   "language": "python",
   "name": "python3"
  },
  "language_info": {
   "codemirror_mode": {
    "name": "ipython",
    "version": 3
   },
   "file_extension": ".py",
   "mimetype": "text/x-python",
   "name": "python",
   "nbconvert_exporter": "python",
   "pygments_lexer": "ipython3",
   "version": "3.11.5"
  }
 },
 "nbformat": 4,
 "nbformat_minor": 2
}
