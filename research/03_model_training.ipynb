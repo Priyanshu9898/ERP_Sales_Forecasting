{
 "cells": [
  {
   "cell_type": "code",
   "execution_count": 1,
   "metadata": {},
   "outputs": [],
   "source": [
    "import os"
   ]
  },
  {
   "cell_type": "code",
   "execution_count": 2,
   "metadata": {},
   "outputs": [
    {
     "data": {
      "text/plain": [
       "'d:\\\\ERP_Sales_Forecasting\\\\research'"
      ]
     },
     "execution_count": 2,
     "metadata": {},
     "output_type": "execute_result"
    }
   ],
   "source": [
    "%pwd"
   ]
  },
  {
   "cell_type": "code",
   "execution_count": 3,
   "metadata": {},
   "outputs": [],
   "source": [
    "os.chdir('../')"
   ]
  },
  {
   "cell_type": "code",
   "execution_count": 4,
   "metadata": {},
   "outputs": [
    {
     "data": {
      "text/plain": [
       "'d:\\\\ERP_Sales_Forecasting'"
      ]
     },
     "execution_count": 4,
     "metadata": {},
     "output_type": "execute_result"
    }
   ],
   "source": [
    "%pwd"
   ]
  },
  {
   "cell_type": "code",
   "execution_count": 5,
   "metadata": {},
   "outputs": [],
   "source": [
    "from dataclasses import dataclass\n",
    "from pathlib import Path"
   ]
  },
  {
   "cell_type": "code",
   "execution_count": 6,
   "metadata": {},
   "outputs": [],
   "source": [
    "@dataclass(frozen=True)\n",
    "class ModelTrainingConfig:\n",
    "    root_dir: Path\n",
    "    data_file: Path\n",
    "    result_file: Path"
   ]
  },
  {
   "cell_type": "code",
   "execution_count": 7,
   "metadata": {},
   "outputs": [],
   "source": [
    "from ERPsalesForecasting.constants import *\n",
    "from ERPsalesForecasting.utils.common import read_yaml, create_directories\n",
    "from ERPsalesForecasting import logger"
   ]
  },
  {
   "cell_type": "code",
   "execution_count": 8,
   "metadata": {},
   "outputs": [],
   "source": [
    "class ConfigurationManager:\n",
    "    def __init__(self, config_file_path=CONFIG_FILE_PATH, param_file_path=PARAMS_FILE_PATH):\n",
    "        self.config = read_yaml(config_file_path)\n",
    "        self.param = read_yaml(param_file_path)\n",
    "\n",
    "        create_directories([self.config.artifacts_root])\n",
    "        \n",
    "\n",
    "\n",
    "    def get_model_training_config(self):\n",
    "        config = self.config.model_training\n",
    "        validationConfig = self.config.model_validation\n",
    "\n",
    "        create_directories([config.root_dir, validationConfig.root_dir])\n",
    "        column_names = \"ModelName,MSE,MAE,R2\\n\"\n",
    "        if (not os.path.exists(validationConfig.result_file) or os.path.getsize(validationConfig.result_file) == 0):\n",
    "         with open(validationConfig.result_file, \"w\") as f:\n",
    "            f.write(column_names)\n",
    "            logger.info(f\"Creating empty file: {validationConfig.result_file}\")\n",
    "            \n",
    "        else:\n",
    "            logger.info(f\"{validationConfig.result_file} is already exists\")\n",
    "\n",
    "        model_training_config = ModelTrainingConfig(\n",
    "            root_dir=config.root_dir,\n",
    "            data_file=config.data_file,\n",
    "            result_file=validationConfig.result_file,\n",
    "        )\n",
    "\n",
    "        return model_training_config"
   ]
  },
  {
   "cell_type": "code",
   "execution_count": 9,
   "metadata": {},
   "outputs": [],
   "source": [
    "from sklearn.model_selection import train_test_split\n",
    "from sklearn.preprocessing import OneHotEncoder, StandardScaler\n",
    "import pandas as pd\n",
    "import numpy as np"
   ]
  },
  {
   "cell_type": "code",
   "execution_count": 10,
   "metadata": {},
   "outputs": [],
   "source": [
    "from ERPsalesForecasting import logger"
   ]
  },
  {
   "cell_type": "code",
   "execution_count": 11,
   "metadata": {},
   "outputs": [],
   "source": [
    "import pandas as pd\n",
    "import numpy as np\n",
    "from sklearn.model_selection import train_test_split\n",
    "from sklearn.preprocessing import OneHotEncoder, StandardScaler\n",
    "from sklearn.ensemble import RandomForestRegressor, GradientBoostingRegressor\n",
    "from sklearn.linear_model import Lasso, Ridge, ElasticNet\n",
    "from sklearn.tree import DecisionTreeRegressor\n",
    "from sklearn.neighbors import KNeighborsRegressor\n",
    "from sklearn.svm import SVR\n",
    "from sklearn.metrics import mean_squared_error, mean_absolute_error, r2_score\n",
    "import csv\n",
    "import matplotlib.pyplot as plt\n",
    "from sklearn.ensemble import RandomForestRegressor, GradientBoostingRegressor"
   ]
  },
  {
   "cell_type": "code",
   "execution_count": 12,
   "metadata": {},
   "outputs": [],
   "source": [
    "class ModelTraining:\n",
    "    def __init__(self, config: ModelTrainingConfig) -> None:\n",
    "        self.config = config\n",
    "\n",
    "    def data_preprocessing(self):\n",
    "\n",
    "        df = pd.read_csv(self.config.data_file)\n",
    "\n",
    "        encoder = OneHotEncoder(sparse=False)\n",
    "        product_encoded = encoder.fit_transform(df[['ProductID']])\n",
    "        product_encoded_df = pd.DataFrame(product_encoded, columns=[\n",
    "                                          f'Product_{i}' for i in range(product_encoded.shape[1])])\n",
    "\n",
    "        numeric_features = df.select_dtypes(\n",
    "            include=[np.number]).drop(['SelledQTY'], axis=1)\n",
    "        numeric_features.drop(['ProductTotalQty'], axis=1, inplace=True)\n",
    "        return (product_encoded_df, numeric_features, df)\n",
    "\n",
    "    def splitData(self, numeric_features, product_encoded_df, df):\n",
    "        X = pd.concat([numeric_features, product_encoded_df], axis=1)\n",
    "        y = df['SelledQTY']\n",
    "\n",
    "        dates = df['Date']\n",
    "        product_ids = df['ProductID']\n",
    "\n",
    "        X_train, X_test, y_train, y_test, dates_train, dates_test, product_ids_train, product_ids_test = train_test_split(\n",
    "            X, y, dates, product_ids, test_size=0.2, random_state=42)\n",
    "        \n",
    "        return (X_train, X_test, y_train, y_test, dates_train, dates_test, product_ids_train, product_ids_test)\n",
    "\n",
    "    def dataScaling(self, X_train, X_test):\n",
    "        # Normalize the Features\n",
    "        scaler = StandardScaler()\n",
    "        X_train_scaled = scaler.fit_transform(X_train)\n",
    "        X_test_scaled = scaler.transform(X_test)\n",
    "        \n",
    "        return X_train_scaled, X_test_scaled\n",
    "    \n",
    "    def get_regression_model(self, model_type='linear'):\n",
    "        if model_type == 'random_forest':\n",
    "            return RandomForestRegressor(n_estimators=100, random_state=42)\n",
    "        elif model_type == 'gradient_boosting':\n",
    "            return GradientBoostingRegressor(n_estimators=100, random_state=42)\n",
    "        # elif model_type == 'xgboost':\n",
    "        #     return xgb(n_estimators=100, random_state=42)\n",
    "        elif model_type == 'lasso':\n",
    "            return Lasso(alpha=1.0, random_state=42)\n",
    "        elif model_type == 'ridge':\n",
    "            return Ridge(alpha=1.0, random_state=42)\n",
    "        elif model_type == 'elastic_net':\n",
    "            return ElasticNet(alpha=1.0, l1_ratio=0.5, random_state=42)\n",
    "        elif model_type == 'decision_tree':\n",
    "            return DecisionTreeRegressor(random_state=42)\n",
    "        elif model_type == 'knn':\n",
    "            return KNeighborsRegressor(n_neighbors=5)\n",
    "        elif model_type == 'svr':\n",
    "            return SVR()\n",
    "        elif model_type == 'linear_regression':\n",
    "            from sklearn.linear_model import LinearRegression\n",
    "            return LinearRegression()\n",
    "    \n",
    "    def model_evaluation(self, model, model_name, X_test_scaled, y_test, dates_test, product_ids_test):\n",
    "        y_pred = model.predict(X_test_scaled)\n",
    "        \n",
    "        # print(y_pred)\n",
    "        \n",
    "        mse = mean_squared_error(y_test, y_pred)\n",
    "        mae = mean_absolute_error(y_test, y_pred)\n",
    "        r2 = r2_score(y_test, y_pred)\n",
    "        print(f'Model: {model_name}, MSE: {mse}, MAE: {mae}, R2 Score: {r2}')\n",
    "        \n",
    "        logger.info('Model: {model_name}, MSE: {mse}, MAE: {mae}, R2 Score: {r2}')\n",
    "        \n",
    "        # Your code for updating the DataFrame\n",
    "        new_data = pd.DataFrame({\n",
    "            'ModelName': [model_name],\n",
    "            'MSE': [mse],\n",
    "            'MAE': [mae],\n",
    "            'R2': [r2]\n",
    "        })\n",
    "        \n",
    "        new_row = [model_name, mse, mae, r2]\n",
    "        \n",
    "        result_df = pd.read_csv(self.config.result_file)\n",
    "        \n",
    "        if result_df['ModelName'].isin([model_name]).any():\n",
    "            result_df.loc[result_df['ModelName'] == model_name, ['MSE', 'MAE', 'R2']] = [mse, mae, r2]\n",
    "            \n",
    "        else:\n",
    "            result_df = result_df.append(new_data, ignore_index=True)\n",
    "\n",
    "        \n",
    "        # with open(self.config.result_file, 'a', newline='') as file:\n",
    "        #     writer = csv.writer(file)\n",
    "        #     # Write the new data\n",
    "        #     writer.writerow(new_row)\n",
    "                # result_df = pd.concat([result_df, new_data], ignore_index=True) \n",
    "        \n",
    "        logger.info('Model: {model_name}, evaluation data has been updated to results file')\n",
    "    \n",
    "        comparison_df = pd.DataFrame({\n",
    "            'Date': dates_test,\n",
    "            'ProductId': product_ids_test,\n",
    "            'ActualSales': y_test,\n",
    "            'PredictedSales': y_pred\n",
    "        })\n",
    "        \n",
    "        comparison_df.sort_values(by=['Date', 'ProductId'], inplace=True)\n",
    "        \n",
    "        logger.info(f'{comparison_df.head()}')\n",
    "        \n",
    "        comparison_df.to_csv(f'{self.config.root_dir}/{model_name}.csv')\n",
    "        \n",
    "        logger.info(f'test result of {model_name} is saved to: {self.config.root_dir}/{model_name}.csv')"
   ]
  },
  {
   "cell_type": "code",
   "execution_count": 13,
   "metadata": {},
   "outputs": [],
   "source": [
    "def train(model_training, X_train_scaled, y_train, X_test_scaled, y_test, dates_test, product_ids_test, model_name=\"linear_regression\"):\n",
    "    logger.info(f\"{model_name} Training started\")\n",
    "    \n",
    "    model = model_training.get_regression_model(model_name)\n",
    "    model.fit(X_train_scaled, y_train)\n",
    "    \n",
    "    model_training.model_evaluation(model, model_name, X_test_scaled, y_test, dates_test, product_ids_test)\n",
    "    \n",
    "    logger.info(f\"{model_name} Training and evaluation completed successfully\")"
   ]
  },
  {
   "cell_type": "code",
   "execution_count": 14,
   "metadata": {},
   "outputs": [
    {
     "name": "stdout",
     "output_type": "stream",
     "text": [
      "[2023-12-22 18:23:11,535]: INFO: common : 31: yaml file: config\\config.yaml loaded successfully\n",
      "[2023-12-22 18:23:11,536]: INFO: common : 31: yaml file: params.yaml loaded successfully\n",
      "[2023-12-22 18:23:11,537]: INFO: common : 50: created directory at: artifacts\n",
      "[2023-12-22 18:23:11,538]: INFO: common : 50: created directory at: artifacts/model_training\n",
      "[2023-12-22 18:23:11,538]: INFO: common : 50: created directory at: artifacts/model_validation\n",
      "[2023-12-22 18:23:11,539]: INFO: 3819670936 : 22: artifacts/model_validation/result.csv is already exists\n",
      "[2023-12-22 18:23:11,549]: INFO: 1940564352 : 2: linear_regression Training started\n",
      "Model: linear_regression, MSE: 3.277926994842912e+28, MAE: 107702031516463.9, R2 Score: -1.772964275907369e+25\n",
      "[2023-12-22 18:23:11,552]: INFO: 3456451470 : 72: Model: {model_name}, MSE: {mse}, MAE: {mae}, R2 Score: {r2}\n",
      "[2023-12-22 18:23:11,554]: INFO: 3456451470 : 92: Model: {model_name}, evaluation data has been updated to results file\n",
      "[2023-12-22 18:23:11,557]: INFO: 3456451470 : 103:           Date  ProductId  ActualSales  PredictedSales\n",
      "0   2023-09-25          1          105    1.262081e+01\n",
      "10  2023-09-26          2            1    2.536252e-01\n",
      "22  2023-09-26          4            1    1.355188e+00\n",
      "30  2023-09-29         45           11    4.089563e+00\n",
      "49  2023-09-30        396           12    1.342362e+14\n",
      "[2023-12-22 18:23:11,560]: INFO: 3456451470 : 107: test result of linear_regression is saved to: artifacts/model_training/linear_regression.csv\n",
      "[2023-12-22 18:23:11,560]: INFO: 1940564352 : 9: linear_regression Training and evaluation completed successfully\n",
      "[2023-12-22 18:23:11,560]: INFO: 1940564352 : 2: decision_tree Training started\n",
      "Model: decision_tree, MSE: 3103.5625, MAE: 32.0625, R2 Score: -0.6786540545908224\n",
      "[2023-12-22 18:23:11,564]: INFO: 3456451470 : 72: Model: {model_name}, MSE: {mse}, MAE: {mae}, R2 Score: {r2}\n",
      "[2023-12-22 18:23:11,566]: INFO: 3456451470 : 92: Model: {model_name}, evaluation data has been updated to results file\n",
      "[2023-12-22 18:23:11,568]: INFO: 3456451470 : 103:           Date  ProductId  ActualSales  PredictedSales\n",
      "0   2023-09-25          1          105             2.0\n",
      "10  2023-09-26          2            1             1.0\n",
      "22  2023-09-26          4            1             1.0\n",
      "30  2023-09-29         45           11            11.0\n",
      "49  2023-09-30        396           12            12.0\n",
      "[2023-12-22 18:23:11,570]: INFO: 3456451470 : 107: test result of decision_tree is saved to: artifacts/model_training/decision_tree.csv\n",
      "[2023-12-22 18:23:11,570]: INFO: 1940564352 : 9: decision_tree Training and evaluation completed successfully\n",
      "[2023-12-22 18:23:11,571]: INFO: 1940564352 : 2: svr Training started\n",
      "Model: svr, MSE: 2432.446655305219, MAE: 24.71960505529505, R2 Score: -0.3156610960803883\n",
      "[2023-12-22 18:23:11,574]: INFO: 3456451470 : 72: Model: {model_name}, MSE: {mse}, MAE: {mae}, R2 Score: {r2}\n",
      "[2023-12-22 18:23:11,576]: INFO: 3456451470 : 92: Model: {model_name}, evaluation data has been updated to results file\n",
      "[2023-12-22 18:23:11,579]: INFO: 3456451470 : 103:           Date  ProductId  ActualSales  PredictedSales\n",
      "0   2023-09-25          1          105        1.799970\n",
      "10  2023-09-26          2            1        1.883008\n",
      "22  2023-09-26          4            1        3.179207\n",
      "30  2023-09-29         45           11        3.504421\n",
      "49  2023-09-30        396           12        2.065783\n",
      "[2023-12-22 18:23:11,581]: INFO: 3456451470 : 107: test result of svr is saved to: artifacts/model_training/svr.csv\n",
      "[2023-12-22 18:23:11,581]: INFO: 1940564352 : 9: svr Training and evaluation completed successfully\n",
      "[2023-12-22 18:23:11,582]: INFO: 1940564352 : 2: knn Training started\n",
      "Model: knn, MSE: 2347.985, MAE: 34.6, R2 Score: -0.26997749855800635\n",
      "[2023-12-22 18:23:11,717]: INFO: 3456451470 : 72: Model: {model_name}, MSE: {mse}, MAE: {mae}, R2 Score: {r2}\n",
      "[2023-12-22 18:23:11,719]: INFO: 3456451470 : 92: Model: {model_name}, evaluation data has been updated to results file\n",
      "[2023-12-22 18:23:11,722]: INFO: 3456451470 : 103:           Date  ProductId  ActualSales  PredictedSales\n",
      "0   2023-09-25          1          105            35.8\n",
      "10  2023-09-26          2            1            28.2\n",
      "22  2023-09-26          4            1            35.8\n",
      "30  2023-09-29         45           11            31.0\n",
      "49  2023-09-30        396           12            35.8\n",
      "[2023-12-22 18:23:11,724]: INFO: 3456451470 : 107: test result of knn is saved to: artifacts/model_training/knn.csv\n",
      "[2023-12-22 18:23:11,724]: INFO: 1940564352 : 9: knn Training and evaluation completed successfully\n",
      "[2023-12-22 18:23:11,725]: INFO: 1940564352 : 2: gradient_boosting Training started\n"
     ]
    },
    {
     "name": "stderr",
     "output_type": "stream",
     "text": [
      "d:\\ERP_Sales_Forecasting\\env\\Lib\\site-packages\\sklearn\\preprocessing\\_encoders.py:975: FutureWarning: `sparse` was renamed to `sparse_output` in version 1.2 and will be removed in 1.4. `sparse_output` is ignored unless you leave `sparse` to its default value.\n",
      "  warnings.warn(\n"
     ]
    },
    {
     "name": "stdout",
     "output_type": "stream",
     "text": [
      "Model: gradient_boosting, MSE: 2609.9066145967927, MAE: 29.007438453889364, R2 Score: -0.4116455913796848\n",
      "[2023-12-22 18:23:11,761]: INFO: 3456451470 : 72: Model: {model_name}, MSE: {mse}, MAE: {mae}, R2 Score: {r2}\n",
      "[2023-12-22 18:23:11,763]: INFO: 3456451470 : 92: Model: {model_name}, evaluation data has been updated to results file\n",
      "[2023-12-22 18:23:11,766]: INFO: 3456451470 : 103:           Date  ProductId  ActualSales  PredictedSales\n",
      "0   2023-09-25          1          105        5.392483\n",
      "10  2023-09-26          2            1        2.064800\n",
      "22  2023-09-26          4            1        2.999059\n",
      "30  2023-09-29         45           11        8.128843\n",
      "49  2023-09-30        396           12       10.108183\n",
      "[2023-12-22 18:23:11,767]: INFO: 3456451470 : 107: test result of gradient_boosting is saved to: artifacts/model_training/gradient_boosting.csv\n",
      "[2023-12-22 18:23:11,768]: INFO: 1940564352 : 9: gradient_boosting Training and evaluation completed successfully\n",
      "[2023-12-22 18:23:11,768]: INFO: 1940564352 : 2: random_forest Training started\n",
      "Model: random_forest, MSE: 2620.332469444444, MAE: 27.852083333333333, R2 Score: -0.4172847249600735\n",
      "[2023-12-22 18:23:11,847]: INFO: 3456451470 : 72: Model: {model_name}, MSE: {mse}, MAE: {mae}, R2 Score: {r2}\n",
      "[2023-12-22 18:23:11,849]: INFO: 3456451470 : 92: Model: {model_name}, evaluation data has been updated to results file\n",
      "[2023-12-22 18:23:11,852]: INFO: 3456451470 : 103:           Date  ProductId  ActualSales  PredictedSales\n",
      "0   2023-09-25          1          105            8.18\n",
      "10  2023-09-26          2            1            2.40\n",
      "22  2023-09-26          4            1            1.19\n",
      "30  2023-09-29         45           11           10.95\n",
      "49  2023-09-30        396           12            9.27\n",
      "[2023-12-22 18:23:11,853]: INFO: 3456451470 : 107: test result of random_forest is saved to: artifacts/model_training/random_forest.csv\n",
      "[2023-12-22 18:23:11,854]: INFO: 1940564352 : 9: random_forest Training and evaluation completed successfully\n",
      "[2023-12-22 18:23:11,854]: INFO: 1940564352 : 2: ridge Training started\n",
      "Model: ridge, MSE: 3463.243996049998, MAE: 38.19844699394198, R2 Score: -0.8731984859356468\n",
      "[2023-12-22 18:23:11,856]: INFO: 3456451470 : 72: Model: {model_name}, MSE: {mse}, MAE: {mae}, R2 Score: {r2}\n",
      "[2023-12-22 18:23:11,858]: INFO: 3456451470 : 92: Model: {model_name}, evaluation data has been updated to results file\n",
      "[2023-12-22 18:23:11,860]: INFO: 3456451470 : 103:           Date  ProductId  ActualSales  PredictedSales\n",
      "0   2023-09-25          1          105       18.362822\n",
      "10  2023-09-26          2            1        1.391169\n",
      "22  2023-09-26          4            1        1.635659\n",
      "30  2023-09-29         45           11        6.737575\n",
      "49  2023-09-30        396           12       50.389316\n",
      "[2023-12-22 18:23:11,862]: INFO: 3456451470 : 107: test result of ridge is saved to: artifacts/model_training/ridge.csv\n",
      "[2023-12-22 18:23:11,864]: INFO: 1940564352 : 9: ridge Training and evaluation completed successfully\n",
      "[2023-12-22 18:23:11,864]: INFO: 1940564352 : 2: lasso Training started\n",
      "Model: lasso, MSE: 2043.7940643250695, MAE: 23.20923386834648, R2 Score: -0.10544678666143636\n",
      "[2023-12-22 18:23:11,866]: INFO: 3456451470 : 72: Model: {model_name}, MSE: {mse}, MAE: {mae}, R2 Score: {r2}\n",
      "[2023-12-22 18:23:11,868]: INFO: 3456451470 : 92: Model: {model_name}, evaluation data has been updated to results file\n",
      "[2023-12-22 18:23:11,870]: INFO: 3456451470 : 103:           Date  ProductId  ActualSales  PredictedSales\n",
      "0   2023-09-25          1          105       20.114166\n",
      "10  2023-09-26          2            1        6.510461\n",
      "22  2023-09-26          4            1        8.826129\n",
      "30  2023-09-29         45           11        8.826129\n",
      "49  2023-09-30        396           12        8.826129\n",
      "[2023-12-22 18:23:11,872]: INFO: 3456451470 : 107: test result of lasso is saved to: artifacts/model_training/lasso.csv\n",
      "[2023-12-22 18:23:11,873]: INFO: 1940564352 : 9: lasso Training and evaluation completed successfully\n",
      "[2023-12-22 18:23:11,873]: INFO: 1940564352 : 2: elastic_net Training started\n",
      "Model: elastic_net, MSE: 2736.5172938048495, MAE: 39.16626873159488, R2 Score: -0.48012674167296954\n",
      "[2023-12-22 18:23:11,876]: INFO: 3456451470 : 72: Model: {model_name}, MSE: {mse}, MAE: {mae}, R2 Score: {r2}\n",
      "[2023-12-22 18:23:11,878]: INFO: 3456451470 : 92: Model: {model_name}, evaluation data has been updated to results file\n",
      "[2023-12-22 18:23:11,881]: INFO: 3456451470 : 103:           Date  ProductId  ActualSales  PredictedSales\n",
      "0   2023-09-25          1          105       29.108958\n",
      "10  2023-09-26          2            1       17.389708\n",
      "22  2023-09-26          4            1       18.451675\n",
      "30  2023-09-29         45           11       21.563818\n",
      "49  2023-09-30        396           12       50.560193\n",
      "[2023-12-22 18:23:11,882]: INFO: 3456451470 : 107: test result of elastic_net is saved to: artifacts/model_training/elastic_net.csv\n",
      "[2023-12-22 18:23:11,883]: INFO: 1940564352 : 9: elastic_net Training and evaluation completed successfully\n"
     ]
    }
   ],
   "source": [
    "try:\n",
    "    config = ConfigurationManager()\n",
    "    model_training_config = config.get_model_training_config()\n",
    "    model_training = ModelTraining(config=model_training_config)\n",
    "    product_encoded_df, numeric_features, df = model_training.data_preprocessing()\n",
    "    \n",
    "    numeric_features['AvailableQtyAfterSell'] = numeric_features['AvailableQtyAfterSell'].apply(lambda x: 0 if x < 0 else x)\n",
    "    \n",
    "    X_train, X_test, y_train, y_test, dates_train, dates_test, product_ids_train, product_ids_test = model_training.splitData(product_encoded_df, numeric_features, df)\n",
    "    X_train_scaled, X_test_scaled = model_training.dataScaling(X_train, X_test)\n",
    "    \n",
    "    train(model_training, X_train_scaled, y_train, X_test_scaled, y_test, dates_test, product_ids_test, \"linear_regression\")\n",
    "    train(model_training, X_train_scaled, y_train, X_test_scaled, y_test, dates_test, product_ids_test, \"decision_tree\")\n",
    "    train(model_training, X_train_scaled, y_train, X_test_scaled, y_test, dates_test, product_ids_test, \"svr\")\n",
    "    train(model_training, X_train_scaled, y_train, X_test_scaled, y_test, dates_test, product_ids_test, \"knn\")\n",
    "    train(model_training, X_train_scaled, y_train, X_test_scaled, y_test, dates_test, product_ids_test, \"gradient_boosting\")\n",
    "    train(model_training, X_train_scaled, y_train, X_test_scaled, y_test, dates_test, product_ids_test, \"random_forest\")\n",
    "    train(model_training, X_train_scaled, y_train, X_test_scaled, y_test, dates_test, product_ids_test, \"ridge\")\n",
    "    train(model_training, X_train_scaled, y_train, X_test_scaled, y_test, dates_test, product_ids_test, \"lasso\")\n",
    "    train(model_training, X_train_scaled, y_train, X_test_scaled, y_test, dates_test, product_ids_test, \"elastic_net\")\n",
    "except Exception as e:\n",
    "    raise e"
   ]
  },
  {
   "cell_type": "code",
   "execution_count": null,
   "metadata": {},
   "outputs": [],
   "source": []
  }
 ],
 "metadata": {
  "kernelspec": {
   "display_name": "env",
   "language": "python",
   "name": "python3"
  },
  "language_info": {
   "codemirror_mode": {
    "name": "ipython",
    "version": 3
   },
   "file_extension": ".py",
   "mimetype": "text/x-python",
   "name": "python",
   "nbconvert_exporter": "python",
   "pygments_lexer": "ipython3",
   "version": "3.11.5"
  }
 },
 "nbformat": 4,
 "nbformat_minor": 2
}
