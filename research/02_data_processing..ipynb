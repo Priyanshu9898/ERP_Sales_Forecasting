{
 "cells": [
  {
   "cell_type": "code",
   "execution_count": 1,
   "metadata": {},
   "outputs": [],
   "source": [
    "import os"
   ]
  },
  {
   "cell_type": "code",
   "execution_count": 2,
   "metadata": {},
   "outputs": [
    {
     "data": {
      "text/plain": [
       "'d:\\\\ERP_Sales_Forecasting\\\\research'"
      ]
     },
     "execution_count": 2,
     "metadata": {},
     "output_type": "execute_result"
    }
   ],
   "source": [
    "%pwd"
   ]
  },
  {
   "cell_type": "code",
   "execution_count": 3,
   "metadata": {},
   "outputs": [],
   "source": [
    "os.chdir(\"../\")"
   ]
  },
  {
   "cell_type": "code",
   "execution_count": 4,
   "metadata": {},
   "outputs": [
    {
     "data": {
      "text/plain": [
       "'d:\\\\ERP_Sales_Forecasting'"
      ]
     },
     "execution_count": 4,
     "metadata": {},
     "output_type": "execute_result"
    }
   ],
   "source": [
    "%pwd"
   ]
  },
  {
   "cell_type": "code",
   "execution_count": 5,
   "metadata": {},
   "outputs": [],
   "source": [
    "from dataclasses import dataclass\n",
    "from pathlib import Path\n",
    "import pandas as pd\n",
    "import numpy as np\n",
    "from sklearn.model_selection import train_test_split\n",
    "from sklearn.preprocessing import OneHotEncoder, StandardScaler"
   ]
  },
  {
   "cell_type": "code",
   "execution_count": 6,
   "metadata": {},
   "outputs": [],
   "source": [
    "from ERPsalesForecasting import logger\n",
    "from ERPsalesForecasting.utils.common import read_yaml, create_directories,get_size\n",
    "from ERPsalesForecasting.constants import *"
   ]
  },
  {
   "cell_type": "code",
   "execution_count": 7,
   "metadata": {},
   "outputs": [],
   "source": [
    "@dataclass\n",
    "class DataProcessingConfig:\n",
    "    root_dir: Path\n",
    "    data_file: Path\n",
    "    preprocessed_file: Path\n",
    "    isValid: bool\n"
   ]
  },
  {
   "cell_type": "code",
   "execution_count": 8,
   "metadata": {},
   "outputs": [],
   "source": [
    "class ConfigurationManager:\n",
    "    def __init__(self, config_file_path= CONFIG_FILE_PATH, param_file_path=PARAMS_FILE_PATH):\n",
    "        self.config = read_yaml(config_file_path)\n",
    "        self.param = read_yaml(param_file_path)\n",
    "        \n",
    "        create_directories([self.config.artifacts_root])\n",
    "    \n",
    "    def get_data_processing_config(self):\n",
    "        config = self.config.data_processing\n",
    "        \n",
    "        create_directories([config.root_dir])\n",
    "        \n",
    "        data_processing_config = DataProcessingConfig(\n",
    "            root_dir=config.root_dir,\n",
    "            data_file=config.data_file,\n",
    "            preprocessed_file=config.preprocessed_file,\n",
    "            isValid=False,\n",
    "        )\n",
    "        \n",
    "        return data_processing_config\n",
    "    "
   ]
  },
  {
   "cell_type": "code",
   "execution_count": 9,
   "metadata": {},
   "outputs": [],
   "source": [
    "class DataProcessing:\n",
    "    \n",
    "    def __init__(self, config: DataProcessingConfig) -> None:\n",
    "        self.config = config\n",
    "    \n",
    "    def data_validation(self) -> None:\n",
    "        dataFilePath = Path(self.config.data_file)\n",
    "        \n",
    "        try:\n",
    "            df = pd.read_csv(dataFilePath)\n",
    "            \n",
    "            if(get_size(dataFilePath) != \"\"):\n",
    "                logger.info(f\"Dataset is available at: {dataFilePath}\")\n",
    "                logger.info(f\"Dataset size: {df.shape}\")\n",
    "                logger.info(f\"Columns in Dataset {df.columns}\")\n",
    "                self.config.isValid = True\n",
    "        except Exception as e:\n",
    "            raise e\n",
    "    \n",
    "    def prepare_data(self) -> None:\n",
    "        \n",
    "        create_directories([self.config.root_dir])\n",
    "        \n",
    "        try:\n",
    "            if(self.config.isValid):\n",
    "                df = pd.read_csv(self.config.data_file)\n",
    "                columns = df.columns\n",
    "                print(columns)\n",
    "                \n",
    "                df['Date'] = pd.to_datetime(df['Date'])\n",
    "                df.sort_values('Date', inplace=True)\n",
    "\n",
    "                df.reset_index(inplace = True)\n",
    "                \n",
    "                df.to_csv(self.config.preprocessed_file)\n",
    "                \n",
    "                logger.info(f\"Preprocessed file saved at {self.config.preprocessed_file}\")\n",
    "                \n",
    "            else:\n",
    "                logger.info(\"Data is not available\")\n",
    "            \n",
    "        except Exception as e:\n",
    "            raise e"
   ]
  },
  {
   "cell_type": "code",
   "execution_count": 10,
   "metadata": {},
   "outputs": [
    {
     "name": "stdout",
     "output_type": "stream",
     "text": [
      "[2023-12-21 00:06:58,791]: INFO: common : 31: yaml file: config\\config.yaml loaded successfully\n",
      "[2023-12-21 00:06:58,795]: INFO: common : 31: yaml file: params.yaml loaded successfully\n",
      "[2023-12-21 00:06:58,796]: INFO: common : 50: created directory at: artifacts\n",
      "[2023-12-21 00:06:58,796]: INFO: common : 50: created directory at: artifacts/data_processing\n",
      "[2023-12-21 00:06:58,837]: INFO: 3567397884 : 13: Dataset is available at: artifacts\\data_ingestion\\data.csv\n",
      "[2023-12-21 00:06:58,837]: INFO: 3567397884 : 14: Dataset size: (28706, 7)\n",
      "[2023-12-21 00:06:58,843]: INFO: 3567397884 : 15: Columns in Dataset Index(['Unnamed: 0', 'Date', 'ProductId', 'ProductName', 'QuantitySold',\n",
      "       'UnitPrice', 'InventoryLevel'],\n",
      "      dtype='object')\n",
      "[2023-12-21 00:06:58,845]: INFO: common : 50: created directory at: artifacts/data_processing\n",
      "Index(['Unnamed: 0', 'Date', 'ProductId', 'ProductName', 'QuantitySold',\n",
      "       'UnitPrice', 'InventoryLevel'],\n",
      "      dtype='object')\n",
      "       index  Unnamed: 0  ProductId  UnitPrice  InventoryLevel\n",
      "0          0           0          1      100.0             509\n",
      "1      10075       10075        322      100.0             971\n",
      "2      10044       10044        321      100.0             979\n",
      "3      10013       10013        320      100.0             971\n",
      "4       9982        9982        319      100.0             975\n",
      "...      ...         ...        ...        ...             ...\n",
      "28701  18382       18382        576      100.0             696\n",
      "28702  18351       18351        575      100.0             702\n",
      "28703  18320       18320        574      100.0             699\n",
      "28704  13887       13887        444      100.0             687\n",
      "28705  28705       28705       5374      100.0             704\n",
      "\n",
      "[28706 rows x 5 columns]\n"
     ]
    }
   ],
   "source": [
    "try:\n",
    "    config = ConfigurationManager()\n",
    "    data_processing_config = config.get_data_processing_config()\n",
    "    data_processing  = DataProcessing(config=data_processing_config)\n",
    "    data_processing.data_validation()\n",
    "    data_processing.prepare_data()\n",
    "    \n",
    "except Exception as e:\n",
    "    raise e"
   ]
  },
  {
   "cell_type": "code",
   "execution_count": null,
   "metadata": {},
   "outputs": [],
   "source": []
  },
  {
   "cell_type": "code",
   "execution_count": null,
   "metadata": {},
   "outputs": [],
   "source": []
  },
  {
   "cell_type": "code",
   "execution_count": null,
   "metadata": {},
   "outputs": [],
   "source": []
  },
  {
   "cell_type": "code",
   "execution_count": null,
   "metadata": {},
   "outputs": [],
   "source": []
  },
  {
   "cell_type": "code",
   "execution_count": null,
   "metadata": {},
   "outputs": [],
   "source": []
  },
  {
   "cell_type": "code",
   "execution_count": null,
   "metadata": {},
   "outputs": [],
   "source": []
  },
  {
   "cell_type": "code",
   "execution_count": null,
   "metadata": {},
   "outputs": [],
   "source": []
  },
  {
   "cell_type": "code",
   "execution_count": null,
   "metadata": {},
   "outputs": [],
   "source": []
  },
  {
   "cell_type": "code",
   "execution_count": null,
   "metadata": {},
   "outputs": [],
   "source": []
  },
  {
   "cell_type": "code",
   "execution_count": null,
   "metadata": {},
   "outputs": [],
   "source": []
  }
 ],
 "metadata": {
  "kernelspec": {
   "display_name": "env",
   "language": "python",
   "name": "python3"
  },
  "language_info": {
   "codemirror_mode": {
    "name": "ipython",
    "version": 3
   },
   "file_extension": ".py",
   "mimetype": "text/x-python",
   "name": "python",
   "nbconvert_exporter": "python",
   "pygments_lexer": "ipython3",
   "version": "3.11.5"
  }
 },
 "nbformat": 4,
 "nbformat_minor": 2
}
