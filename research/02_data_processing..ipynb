{
 "cells": [
  {
   "cell_type": "code",
   "execution_count": 1,
   "metadata": {},
   "outputs": [],
   "source": [
    "import os"
   ]
  },
  {
   "cell_type": "code",
   "execution_count": 2,
   "metadata": {},
   "outputs": [
    {
     "data": {
      "text/plain": [
       "'d:\\\\ERP_Sales_Forecasting\\\\research'"
      ]
     },
     "execution_count": 2,
     "metadata": {},
     "output_type": "execute_result"
    }
   ],
   "source": [
    "%pwd"
   ]
  },
  {
   "cell_type": "code",
   "execution_count": 3,
   "metadata": {},
   "outputs": [],
   "source": [
    "os.chdir(\"../\")"
   ]
  },
  {
   "cell_type": "code",
   "execution_count": 4,
   "metadata": {},
   "outputs": [
    {
     "data": {
      "text/plain": [
       "'d:\\\\ERP_Sales_Forecasting'"
      ]
     },
     "execution_count": 4,
     "metadata": {},
     "output_type": "execute_result"
    }
   ],
   "source": [
    "%pwd"
   ]
  },
  {
   "cell_type": "code",
   "execution_count": 5,
   "metadata": {},
   "outputs": [],
   "source": [
    "from dataclasses import dataclass\n",
    "from pathlib import Path\n",
    "import pandas as pd\n",
    "import numpy as np\n",
    "from sklearn.model_selection import train_test_split\n",
    "from sklearn.preprocessing import OneHotEncoder, StandardScaler"
   ]
  },
  {
   "cell_type": "code",
   "execution_count": 6,
   "metadata": {},
   "outputs": [],
   "source": [
    "from ERPsalesForecasting import logger\n",
    "from ERPsalesForecasting.utils.common import read_yaml, create_directories, get_size\n",
    "from ERPsalesForecasting.constants import *"
   ]
  },
  {
   "cell_type": "code",
   "execution_count": 7,
   "metadata": {},
   "outputs": [],
   "source": [
    "@dataclass\n",
    "class DataProcessingConfig:\n",
    "    root_dir: Path\n",
    "    data_file: Path\n",
    "    preprocessed_file: Path\n",
    "    isValid: bool"
   ]
  },
  {
   "cell_type": "code",
   "execution_count": 8,
   "metadata": {},
   "outputs": [],
   "source": [
    "class ConfigurationManager:\n",
    "    def __init__(self, config_file_path=CONFIG_FILE_PATH, param_file_path=PARAMS_FILE_PATH):\n",
    "        self.config = read_yaml(config_file_path)\n",
    "        self.param = read_yaml(param_file_path)\n",
    "\n",
    "        create_directories([self.config.artifacts_root])\n",
    "\n",
    "    def get_data_processing_config(self):\n",
    "        config = self.config.data_processing\n",
    "\n",
    "        create_directories([config.root_dir])\n",
    "\n",
    "        data_processing_config = DataProcessingConfig(\n",
    "            root_dir=config.root_dir,\n",
    "            data_file=config.data_file,\n",
    "            preprocessed_file=config.preprocessed_file,\n",
    "            isValid=False,\n",
    "        )\n",
    "\n",
    "        return data_processing_config"
   ]
  },
  {
   "cell_type": "code",
   "execution_count": 9,
   "metadata": {},
   "outputs": [],
   "source": [
    "class DataProcessing:\n",
    "\n",
    "    def __init__(self, config: DataProcessingConfig) -> None:\n",
    "        self.config = config\n",
    "\n",
    "    def data_validation(self) -> None:\n",
    "        dataFilePath = Path(self.config.data_file)\n",
    "\n",
    "        try:\n",
    "            df = pd.read_excel(dataFilePath)\n",
    "\n",
    "            if (get_size(dataFilePath) != \"\"):\n",
    "                logger.info(f\"Dataset is available at: {dataFilePath}\")\n",
    "                logger.info(f\"Dataset size: {df.shape}\")\n",
    "                logger.info(f\"Columns in Dataset {df.columns}\")\n",
    "                self.config.isValid = True\n",
    "        except Exception as e:\n",
    "            raise e\n",
    "\n",
    "    \n",
    "\n",
    "    def prepare_data(self) -> None:\n",
    "\n",
    "        create_directories([self.config.root_dir])\n",
    "\n",
    "        try:\n",
    "            if (self.config.isValid):\n",
    "                df = pd.read_excel(self.config.data_file)\n",
    "                columns = df.columns\n",
    "                print(columns)\n",
    "\n",
    "                df['Date'] = pd.to_datetime(df['billCreatedDateTime'], dayfirst = True)\n",
    "                df.sort_values('Date', inplace=True)\n",
    "\n",
    "                df.reset_index(inplace=True)\n",
    "\n",
    "                product_id_column = 'ProductID'\n",
    "                date_column = 'Date'\n",
    "                quantity_sold_column = 'SelledQTY'\n",
    "                product_name_column = 'ProductName'\n",
    "                total_qty_column = 'ProductTotalQty'\n",
    "\n",
    "                df[date_column] = pd.to_datetime(df[date_column]).dt.date\n",
    "\n",
    "                # Calculate the cumulative quantity sold for each product\n",
    "                df['CumulativeSelledQTY'] = df.groupby([product_id_column])[quantity_sold_column].cumsum()\n",
    "\n",
    "                # Group by ProductID and Date, and calculate required fields\n",
    "                merged_data = df.groupby([product_id_column, date_column]).agg({\n",
    "                    product_name_column: 'first',\n",
    "                    total_qty_column: 'max',\n",
    "                    quantity_sold_column: 'sum',\n",
    "                    'CumulativeSelledQTY': 'max'\n",
    "                }).reset_index()\n",
    "\n",
    "                # Calculate AvailableQtyAfterSell\n",
    "                merged_data['AvailableQtyAfterSell'] = merged_data[total_qty_column] - merged_data['CumulativeSelledQTY']\n",
    "\n",
    "                # Drop the CumulativeSelledQTY column\n",
    "                merged_data.drop(columns=['CumulativeSelledQTY'], inplace=True)\n",
    "\n",
    "                # Save file\n",
    "                merged_data.to_csv(self.config.preprocessed_file, index=False)\n",
    "\n",
    "                logger.info(\n",
    "                    f\"Preprocessed sales file saved at {self.config.preprocessed_file}\")\n",
    "\n",
    "            else:\n",
    "                logger.info(\"Data is not available\")\n",
    "\n",
    "        except Exception as e:\n",
    "            raise e"
   ]
  },
  {
   "cell_type": "code",
   "execution_count": 10,
   "metadata": {},
   "outputs": [
    {
     "name": "stdout",
     "output_type": "stream",
     "text": [
      "[2023-12-22 13:31:48,972]: INFO: common : 31: yaml file: config\\config.yaml loaded successfully\n",
      "[2023-12-22 13:31:48,976]: INFO: common : 31: yaml file: params.yaml loaded successfully\n",
      "[2023-12-22 13:31:48,979]: INFO: common : 50: created directory at: artifacts\n",
      "[2023-12-22 13:31:48,980]: INFO: common : 50: created directory at: artifacts/data_processing\n",
      "[2023-12-22 13:31:49,341]: INFO: 2892683706 : 13: Dataset is available at: artifacts\\data_ingestion\\data.csv\n",
      "[2023-12-22 13:31:49,341]: INFO: 2892683706 : 14: Dataset size: (163, 8)\n",
      "[2023-12-22 13:31:49,349]: INFO: 2892683706 : 15: Columns in Dataset Index(['ProductID', 'BillId', 'ProductName', 'SelledQTY', 'ProductTotalQty',\n",
      "       'OverAllAvailableQty', 'AvailableQtyAfterSell', 'billCreatedDateTime'],\n",
      "      dtype='object')\n",
      "[2023-12-22 13:31:49,349]: INFO: common : 50: created directory at: artifacts/data_processing\n",
      "Index(['ProductID', 'BillId', 'ProductName', 'SelledQTY', 'ProductTotalQty',\n",
      "       'OverAllAvailableQty', 'AvailableQtyAfterSell', 'billCreatedDateTime'],\n",
      "      dtype='object')\n"
     ]
    },
    {
     "ename": "KeyError",
     "evalue": "'Date'",
     "output_type": "error",
     "traceback": [
      "\u001b[1;31m---------------------------------------------------------------------------\u001b[0m",
      "\u001b[1;31mKeyError\u001b[0m                                  Traceback (most recent call last)",
      "File \u001b[1;32md:\\ERP_Sales_Forecasting\\env\\Lib\\site-packages\\pandas\\core\\indexes\\base.py:3791\u001b[0m, in \u001b[0;36mIndex.get_loc\u001b[1;34m(self, key)\u001b[0m\n\u001b[0;32m   3790\u001b[0m \u001b[38;5;28;01mtry\u001b[39;00m:\n\u001b[1;32m-> 3791\u001b[0m     \u001b[38;5;28;01mreturn\u001b[39;00m \u001b[38;5;28;43mself\u001b[39;49m\u001b[38;5;241;43m.\u001b[39;49m\u001b[43m_engine\u001b[49m\u001b[38;5;241;43m.\u001b[39;49m\u001b[43mget_loc\u001b[49m\u001b[43m(\u001b[49m\u001b[43mcasted_key\u001b[49m\u001b[43m)\u001b[49m\n\u001b[0;32m   3792\u001b[0m \u001b[38;5;28;01mexcept\u001b[39;00m \u001b[38;5;167;01mKeyError\u001b[39;00m \u001b[38;5;28;01mas\u001b[39;00m err:\n",
      "File \u001b[1;32mindex.pyx:152\u001b[0m, in \u001b[0;36mpandas._libs.index.IndexEngine.get_loc\u001b[1;34m()\u001b[0m\n",
      "File \u001b[1;32mindex.pyx:181\u001b[0m, in \u001b[0;36mpandas._libs.index.IndexEngine.get_loc\u001b[1;34m()\u001b[0m\n",
      "File \u001b[1;32mpandas\\_libs\\hashtable_class_helper.pxi:7080\u001b[0m, in \u001b[0;36mpandas._libs.hashtable.PyObjectHashTable.get_item\u001b[1;34m()\u001b[0m\n",
      "File \u001b[1;32mpandas\\_libs\\hashtable_class_helper.pxi:7088\u001b[0m, in \u001b[0;36mpandas._libs.hashtable.PyObjectHashTable.get_item\u001b[1;34m()\u001b[0m\n",
      "\u001b[1;31mKeyError\u001b[0m: 'Date'",
      "\nThe above exception was the direct cause of the following exception:\n",
      "\u001b[1;31mKeyError\u001b[0m                                  Traceback (most recent call last)",
      "Cell \u001b[1;32mIn[10], line 9\u001b[0m\n\u001b[0;32m      6\u001b[0m     data_processing\u001b[38;5;241m.\u001b[39mprepare_data()\n\u001b[0;32m      8\u001b[0m \u001b[38;5;28;01mexcept\u001b[39;00m \u001b[38;5;167;01mException\u001b[39;00m \u001b[38;5;28;01mas\u001b[39;00m e:\n\u001b[1;32m----> 9\u001b[0m     \u001b[38;5;28;01mraise\u001b[39;00m e\n",
      "Cell \u001b[1;32mIn[10], line 6\u001b[0m\n\u001b[0;32m      4\u001b[0m     data_processing \u001b[38;5;241m=\u001b[39m DataProcessing(config\u001b[38;5;241m=\u001b[39mdata_processing_config)\n\u001b[0;32m      5\u001b[0m     data_processing\u001b[38;5;241m.\u001b[39mdata_validation()\n\u001b[1;32m----> 6\u001b[0m     \u001b[43mdata_processing\u001b[49m\u001b[38;5;241;43m.\u001b[39;49m\u001b[43mprepare_data\u001b[49m\u001b[43m(\u001b[49m\u001b[43m)\u001b[49m\n\u001b[0;32m      8\u001b[0m \u001b[38;5;28;01mexcept\u001b[39;00m \u001b[38;5;167;01mException\u001b[39;00m \u001b[38;5;28;01mas\u001b[39;00m e:\n\u001b[0;32m      9\u001b[0m     \u001b[38;5;28;01mraise\u001b[39;00m e\n",
      "Cell \u001b[1;32mIn[9], line 72\u001b[0m, in \u001b[0;36mDataProcessing.prepare_data\u001b[1;34m(self)\u001b[0m\n\u001b[0;32m     69\u001b[0m         logger\u001b[38;5;241m.\u001b[39minfo(\u001b[38;5;124m\"\u001b[39m\u001b[38;5;124mData is not available\u001b[39m\u001b[38;5;124m\"\u001b[39m)\n\u001b[0;32m     71\u001b[0m \u001b[38;5;28;01mexcept\u001b[39;00m \u001b[38;5;167;01mException\u001b[39;00m \u001b[38;5;28;01mas\u001b[39;00m e:\n\u001b[1;32m---> 72\u001b[0m     \u001b[38;5;28;01mraise\u001b[39;00m e\n",
      "Cell \u001b[1;32mIn[9], line 32\u001b[0m, in \u001b[0;36mDataProcessing.prepare_data\u001b[1;34m(self)\u001b[0m\n\u001b[0;32m     29\u001b[0m columns \u001b[38;5;241m=\u001b[39m df\u001b[38;5;241m.\u001b[39mcolumns\n\u001b[0;32m     30\u001b[0m \u001b[38;5;28mprint\u001b[39m(columns)\n\u001b[1;32m---> 32\u001b[0m df[\u001b[38;5;124m'\u001b[39m\u001b[38;5;124mDate\u001b[39m\u001b[38;5;124m'\u001b[39m] \u001b[38;5;241m=\u001b[39m pd\u001b[38;5;241m.\u001b[39mto_datetime(\u001b[43mdf\u001b[49m\u001b[43m[\u001b[49m\u001b[38;5;124;43m'\u001b[39;49m\u001b[38;5;124;43mDate\u001b[39;49m\u001b[38;5;124;43m'\u001b[39;49m\u001b[43m]\u001b[49m, dayfirst \u001b[38;5;241m=\u001b[39m \u001b[38;5;28;01mTrue\u001b[39;00m)\n\u001b[0;32m     33\u001b[0m df\u001b[38;5;241m.\u001b[39msort_values(\u001b[38;5;124m'\u001b[39m\u001b[38;5;124mDate\u001b[39m\u001b[38;5;124m'\u001b[39m, inplace\u001b[38;5;241m=\u001b[39m\u001b[38;5;28;01mTrue\u001b[39;00m)\n\u001b[0;32m     35\u001b[0m df\u001b[38;5;241m.\u001b[39mreset_index(inplace\u001b[38;5;241m=\u001b[39m\u001b[38;5;28;01mTrue\u001b[39;00m)\n",
      "File \u001b[1;32md:\\ERP_Sales_Forecasting\\env\\Lib\\site-packages\\pandas\\core\\frame.py:3893\u001b[0m, in \u001b[0;36mDataFrame.__getitem__\u001b[1;34m(self, key)\u001b[0m\n\u001b[0;32m   3891\u001b[0m \u001b[38;5;28;01mif\u001b[39;00m \u001b[38;5;28mself\u001b[39m\u001b[38;5;241m.\u001b[39mcolumns\u001b[38;5;241m.\u001b[39mnlevels \u001b[38;5;241m>\u001b[39m \u001b[38;5;241m1\u001b[39m:\n\u001b[0;32m   3892\u001b[0m     \u001b[38;5;28;01mreturn\u001b[39;00m \u001b[38;5;28mself\u001b[39m\u001b[38;5;241m.\u001b[39m_getitem_multilevel(key)\n\u001b[1;32m-> 3893\u001b[0m indexer \u001b[38;5;241m=\u001b[39m \u001b[38;5;28;43mself\u001b[39;49m\u001b[38;5;241;43m.\u001b[39;49m\u001b[43mcolumns\u001b[49m\u001b[38;5;241;43m.\u001b[39;49m\u001b[43mget_loc\u001b[49m\u001b[43m(\u001b[49m\u001b[43mkey\u001b[49m\u001b[43m)\u001b[49m\n\u001b[0;32m   3894\u001b[0m \u001b[38;5;28;01mif\u001b[39;00m is_integer(indexer):\n\u001b[0;32m   3895\u001b[0m     indexer \u001b[38;5;241m=\u001b[39m [indexer]\n",
      "File \u001b[1;32md:\\ERP_Sales_Forecasting\\env\\Lib\\site-packages\\pandas\\core\\indexes\\base.py:3798\u001b[0m, in \u001b[0;36mIndex.get_loc\u001b[1;34m(self, key)\u001b[0m\n\u001b[0;32m   3793\u001b[0m     \u001b[38;5;28;01mif\u001b[39;00m \u001b[38;5;28misinstance\u001b[39m(casted_key, \u001b[38;5;28mslice\u001b[39m) \u001b[38;5;129;01mor\u001b[39;00m (\n\u001b[0;32m   3794\u001b[0m         \u001b[38;5;28misinstance\u001b[39m(casted_key, abc\u001b[38;5;241m.\u001b[39mIterable)\n\u001b[0;32m   3795\u001b[0m         \u001b[38;5;129;01mand\u001b[39;00m \u001b[38;5;28many\u001b[39m(\u001b[38;5;28misinstance\u001b[39m(x, \u001b[38;5;28mslice\u001b[39m) \u001b[38;5;28;01mfor\u001b[39;00m x \u001b[38;5;129;01min\u001b[39;00m casted_key)\n\u001b[0;32m   3796\u001b[0m     ):\n\u001b[0;32m   3797\u001b[0m         \u001b[38;5;28;01mraise\u001b[39;00m InvalidIndexError(key)\n\u001b[1;32m-> 3798\u001b[0m     \u001b[38;5;28;01mraise\u001b[39;00m \u001b[38;5;167;01mKeyError\u001b[39;00m(key) \u001b[38;5;28;01mfrom\u001b[39;00m \u001b[38;5;21;01merr\u001b[39;00m\n\u001b[0;32m   3799\u001b[0m \u001b[38;5;28;01mexcept\u001b[39;00m \u001b[38;5;167;01mTypeError\u001b[39;00m:\n\u001b[0;32m   3800\u001b[0m     \u001b[38;5;66;03m# If we have a listlike key, _check_indexing_error will raise\u001b[39;00m\n\u001b[0;32m   3801\u001b[0m     \u001b[38;5;66;03m#  InvalidIndexError. Otherwise we fall through and re-raise\u001b[39;00m\n\u001b[0;32m   3802\u001b[0m     \u001b[38;5;66;03m#  the TypeError.\u001b[39;00m\n\u001b[0;32m   3803\u001b[0m     \u001b[38;5;28mself\u001b[39m\u001b[38;5;241m.\u001b[39m_check_indexing_error(key)\n",
      "\u001b[1;31mKeyError\u001b[0m: 'Date'"
     ]
    }
   ],
   "source": [
    "try:\n",
    "    config = ConfigurationManager()\n",
    "    data_processing_config = config.get_data_processing_config()\n",
    "    data_processing = DataProcessing(config=data_processing_config)\n",
    "    data_processing.data_validation()\n",
    "    data_processing.prepare_data()\n",
    "\n",
    "except Exception as e:\n",
    "    raise e"
   ]
  },
  {
   "cell_type": "code",
   "execution_count": null,
   "metadata": {},
   "outputs": [],
   "source": []
  },
  {
   "cell_type": "code",
   "execution_count": null,
   "metadata": {},
   "outputs": [],
   "source": []
  },
  {
   "cell_type": "code",
   "execution_count": null,
   "metadata": {},
   "outputs": [],
   "source": []
  },
  {
   "cell_type": "code",
   "execution_count": null,
   "metadata": {},
   "outputs": [],
   "source": []
  },
  {
   "cell_type": "code",
   "execution_count": null,
   "metadata": {},
   "outputs": [],
   "source": []
  },
  {
   "cell_type": "code",
   "execution_count": null,
   "metadata": {},
   "outputs": [],
   "source": []
  },
  {
   "cell_type": "code",
   "execution_count": null,
   "metadata": {},
   "outputs": [],
   "source": []
  },
  {
   "cell_type": "code",
   "execution_count": null,
   "metadata": {},
   "outputs": [],
   "source": []
  },
  {
   "cell_type": "code",
   "execution_count": null,
   "metadata": {},
   "outputs": [],
   "source": []
  },
  {
   "cell_type": "code",
   "execution_count": null,
   "metadata": {},
   "outputs": [],
   "source": []
  }
 ],
 "metadata": {
  "kernelspec": {
   "display_name": "env",
   "language": "python",
   "name": "python3"
  },
  "language_info": {
   "codemirror_mode": {
    "name": "ipython",
    "version": 3
   },
   "file_extension": ".py",
   "mimetype": "text/x-python",
   "name": "python",
   "nbconvert_exporter": "python",
   "pygments_lexer": "ipython3",
   "version": "3.11.5"
  }
 },
 "nbformat": 4,
 "nbformat_minor": 2
}
